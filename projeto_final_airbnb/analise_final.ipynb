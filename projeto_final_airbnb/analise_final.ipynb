{
 "cells": [
  {
   "cell_type": "markdown",
   "id": "e8017549",
   "metadata": {},
   "source": [
    "# Análise de dados do Airbnb\n",
    "\n",
    "## Por Eugênio, Isabella, João, Julia e Rafael\n",
    "\n",
    "* city: cidade da listagem (nossa variável)\n",
    "* weekdays: retorna True se é dia da semana (e não fim de semana) (nossa variável)\n",
    "* realSum: o preço de acomodação para duas pessoas por duas noites, em euros\n",
    "* room_type: tipo de acomodação (quarto privado, quarto compartilhado ou casa inteira)\n",
    "* room_shared: retorna True se o quarto for compartilhado\n",
    "* room_private: retorna True se o quarto for privado\n",
    "* person_capacity: número máximo de pessoas \n",
    "* host_is_superhost: retorna True se o anfitrião é um Superhost\n",
    "* multi: retorna True se são oferecidos 2 a 4 quartos diferentes\n",
    "* biz: retorna True se são oferecidos mais de 4 quartos diferentes\n",
    "* cleanliness_rating: avaliação da limpeza\n",
    "* guest_satisfaction_overall: nota geral da listagem\n",
    "* bedrooms: número de quartos (0 para estúdios)\n",
    "* dist: distância até o centro da cidade em km\n",
    "* metro_dist: distância do metrô mais próximo em km\n",
    "* attr_index: índice de atratividade da localização da listagem\n",
    "* attr_index_norm: índice de atração normalizado (0-100)\n",
    "* rest_index: índice de restaurantes da localização da listagem\n",
    "* rest_index_norm: índice de restaurantes normalizado (0-100)\n",
    "* lng: longitude da localização da listagem\n",
    "* lat: latitude da localização da listagem"
   ]
  },
  {
   "cell_type": "code",
   "execution_count": null,
   "id": "fa25d150",
   "metadata": {},
   "outputs": [],
   "source": [
    "import pandas as pd\n",
    "import matplotlib.pyplot as plt\n",
    "import numpy as np\n",
    "import plotly.express as px\n",
    "import seaborn as sns\n",
    "%matplotlib inline\n",
    "import glob\n",
    "import os\n",
    "import geopandas as gpd\n",
    "import warnings\n",
    "warnings.filterwarnings(\"ignore\")"
   ]
  },
  {
   "cell_type": "code",
   "execution_count": null,
   "id": "e79b3ff6",
   "metadata": {},
   "outputs": [],
   "source": [
    "# União de todos os arquivos (20 arquivos, dois para cada cidade - em dias da semana e fim de semana)\n",
    "# Criação de colunas para as cidades e para definir se é um dia da semana ou não\n",
    "all_files = glob.glob('*.csv')\n",
    "\n",
    "li = []\n",
    "\n",
    "for filename in all_files:\n",
    "    print(filename)\n",
    "    df_temp = pd.read_csv(filename, index_col=0)\n",
    "    df_temp[\"city\"] = filename[:filename.index('_')].title()\n",
    "    df_temp[\"weekdays\"] = True if filename[filename.index('_')+1:filename.index('.')] == \"weekdays\" else False\n",
    "    li.append(df_temp)\n",
    "\n",
    "df = pd.concat(li, axis=0, ignore_index=True)\n",
    "display(df)"
   ]
  },
  {
   "cell_type": "code",
   "execution_count": null,
   "id": "1cb3e9dc",
   "metadata": {},
   "outputs": [],
   "source": [
    "# Reordenação das colunas do dataframe\n",
    "df = df[['city', 'weekdays', 'realSum', 'room_type', 'room_shared', 'room_private',\n",
    "       'person_capacity', 'host_is_superhost', 'multi', 'biz',\n",
    "       'cleanliness_rating', 'guest_satisfaction_overall', 'bedrooms', 'dist',\n",
    "       'metro_dist', 'attr_index', 'attr_index_norm', 'rest_index',\n",
    "       'rest_index_norm', 'lng', 'lat']]"
   ]
  },
  {
   "cell_type": "markdown",
   "id": "e37e6323",
   "metadata": {},
   "source": [
    "## Visualização básica do Dataframe"
   ]
  },
  {
   "cell_type": "code",
   "execution_count": null,
   "id": "edea8329",
   "metadata": {},
   "outputs": [],
   "source": [
    "# Verifica-se que o dataframe possui 21 colunas, das quais 4 são booleanas, 13 são numéricas, 2 são categóricas (texto)\n",
    "# e 2 são numéricas contendo informações de latitude e longitude\n",
    "df.info()"
   ]
  },
  {
   "cell_type": "code",
   "execution_count": null,
   "id": "a6c58c3d",
   "metadata": {},
   "outputs": [],
   "source": [
    "# Pegando 5 linhas aleatórias para verificar como os dados estão dispostos\n",
    "df.sample(5).T"
   ]
  },
  {
   "cell_type": "code",
   "execution_count": null,
   "id": "1a9927fc",
   "metadata": {},
   "outputs": [],
   "source": [
    "# Gerando descrições estatísticas básicas\n",
    "df.describe(include=\"all\").T"
   ]
  },
  {
   "cell_type": "code",
   "execution_count": null,
   "id": "2e3f4497",
   "metadata": {},
   "outputs": [],
   "source": [
    "# Verificando número de linhas e colunas do DF\n",
    "df.shape"
   ]
  },
  {
   "cell_type": "code",
   "execution_count": null,
   "id": "04747637",
   "metadata": {},
   "outputs": [],
   "source": [
    "# Como funciona a correlação entre as variáveis?\n",
    "# Verifica-se que a correlação é baixa, com exceção de \n",
    "plt.figure(figsize=(16, 6))\n",
    "sns.heatmap(df[df['realSum']<2000].corr(), cmap=\"coolwarm\", vmin=-1, vmax=1, annot=True)"
   ]
  },
  {
   "cell_type": "markdown",
   "id": "37d6a397",
   "metadata": {},
   "source": [
    "## Análise qualitativa dos imóveis"
   ]
  },
  {
   "cell_type": "code",
   "execution_count": null,
   "id": "80a445c0",
   "metadata": {},
   "outputs": [],
   "source": [
    "# Como estão distribuídos nas cidades as informações de locação?\n",
    "# Verifica-se que dos dados apresentados, quase 50% dos imóveis\n",
    "# locados pela Airbnb estão em Londres, Roma e Paris\n",
    "df1 = df.groupby('city').weekdays.count().reset_index()\n",
    "df1 = df1.rename(columns={'weekdays': 'count'})\n",
    "df1 = df1.sort_values('count', ascending=True)\n",
    "df1['percent'] = round(100*df1['count']/df1['count'].sum(),1)\n",
    "px.bar(data_frame=df1, y='city', x='count', text='percent', title='Imóveis por Cidade: Quase 50% dos imóveis locados ficam em Londres, Roma e Paris',\n",
    "       labels={'city': 'Cidade', 'count':'Quantidade', 'percent':'Porcentagem'},\n",
    "       hover_data=['count', 'percent'], hover_name='city', width=1000)"
   ]
  },
  {
   "cell_type": "code",
   "execution_count": null,
   "id": "b5bd204f",
   "metadata": {},
   "outputs": [],
   "source": [
    "# E como é a distribuição dos diferentes tipos de imóveis?\n",
    "# - Entire home/apt = imóvel completo\n",
    "# - Private room = quarto privativo dentro de um imóvel/hotel\n",
    "# - Shared room = quarto compartilhado\n",
    "# Verifica-se que 63% dos registros de locação são para imóveis completos.\n",
    "df2 = df.groupby('room_type').weekdays.count().reset_index()\n",
    "df2 = df2.rename(columns={'weekdays': 'count'})\n",
    "df2 = df2.sort_values('count', ascending=True)\n",
    "df2['percent'] = round(100*df2['count']/df2['count'].sum(),1)\n",
    "\n",
    "px.bar(data_frame=df2, y='room_type', x='count', text='percent', title='Tipos de Imóvel: 63% das locações são para o imóvel completo (\"Entire home/apt\")', \n",
    "       labels={'room_type': 'Tipo de Imóvel', 'count':'Quantidade', 'percent':'Porcentagem'},\n",
    "       hover_data=['room_type', 'count', 'percent'], width=1000)"
   ]
  },
  {
   "cell_type": "code",
   "execution_count": null,
   "id": "74f82d7c",
   "metadata": {},
   "outputs": [],
   "source": [
    "# A distribuição fica diferente por cidade?\n",
    "# Aparentemente sim, verifica-se que ao agrupar por cidade, em algumas cidades\n",
    "# há mais locação de quartos privados que imóveis completos, como é o caso de Londres,\n",
    "# Barcelona e Berlim.\n",
    "df3 = df.groupby(['city', 'room_type']).weekdays.count().reset_index()\n",
    "df3 = df3.rename(columns={'weekdays': 'count'})\n",
    "\n",
    "px.bar(data_frame=df3, x='room_type', y='count', facet_col='city', title='Tipos de Imóvel por Cidade: Em Barcelona, Berlim e Londres temos mais imóveis do tipo \"Private Room\"', \n",
    "       labels={'room_type': 'Tipo', 'count':'Quantidade'}, width=1200)"
   ]
  },
  {
   "cell_type": "code",
   "execution_count": null,
   "id": "ac53cbfe",
   "metadata": {},
   "outputs": [],
   "source": [
    "px.bar(data_frame=df3, x='city', y='count', facet_col='room_type', text='count', title='Tipos de Imóvel por Cidade: Apesar de ficar em 5º no ranking de quantidade de imóveis, Atenas fica em 3º na maior quantidade de \"Entire home/apt\"', \n",
    "       labels={'room_type': 'Tipo de Imóvel', 'count':'Quantidade'}, width=1400)"
   ]
  },
  {
   "cell_type": "code",
   "execution_count": null,
   "id": "050810ef",
   "metadata": {},
   "outputs": [],
   "source": [
    "# Como se comporta a distribuição da capacidade de pessoas das locações?\n",
    "# Verifica-se que imóveis para 2 a 4 pessoas são mais comuns\n",
    "df4 = df.groupby('person_capacity').weekdays.count().reset_index()\n",
    "df4 = df4.rename(columns={'weekdays': 'count'})\n",
    "\n",
    "sns.barplot(df4, x = 'person_capacity', y='count').set(title = 'Os imóveis mais comuns são para 2 a 4 pessoas',\n",
    "xlabel='Capacidade de pessoas', ylabel='Quantidade');"
   ]
  },
  {
   "cell_type": "code",
   "execution_count": null,
   "id": "474f2cbc",
   "metadata": {},
   "outputs": [],
   "source": [
    "# Como funciona a distribuição da capacidade de pessoas por diferentes tipos de imóveis?\n",
    "# Verifica-se, como esperado, que imóveis completos podem possuir maior capacidade,\n",
    "# enquanto quartos privativos geralmente possuem capacidade para até 4 pessoas.\n",
    "\n",
    "df5 = df.groupby(['room_type','person_capacity']).weekdays.count().reset_index()\n",
    "df5 = df5.rename(columns={'weekdays': 'count'})\n",
    "\n",
    "sns.barplot(df5, x = 'room_type', y='count', hue=\"person_capacity\").set(title = 'O \"Entire home/apt\" possui mais variedades de capacidade de pessoas',\n",
    "                                                                           xlabel='Tipo de imóvel', ylabel='Quantidade');"
   ]
  },
  {
   "cell_type": "code",
   "execution_count": null,
   "id": "f5ce3f64",
   "metadata": {},
   "outputs": [],
   "source": [
    "# E como estão distribuídas a capacidade de pessoas por cidade?\n",
    "# Verifica-se que com exceção de Atenas e Budapeste a maioria das locações tem\n",
    "# capacidade de 2 pessoas.\n",
    "# Como esperado verifica-se relação da capacidade com o tipo de imóvel. Em Barcelona,\n",
    "# Londres e Berlim, onde haviam mais imóveis do tipo quarto privado, a maioria da capacidade\n",
    "# está em 2 pessoas.\n",
    "df6 = df.groupby(['city','person_capacity']).weekdays.count().reset_index()\n",
    "df6 = df6.rename(columns={'weekdays': 'count'})\n",
    "\n",
    "plt.figure(figsize=(10,8))\n",
    "sns.barplot(df6, y = 'city', x='count', hue=\"person_capacity\").set(title = 'Com exceção de Atenas e Budapeste, todas as cidades costumam oferecer mais imóveis com capacidade para 2 pessoas',\n",
    "                                                                           xlabel='Quantidade', ylabel='Cidade');"
   ]
  },
  {
   "cell_type": "code",
   "execution_count": null,
   "id": "6e490feb",
   "metadata": {},
   "outputs": [],
   "source": [
    "# Como ficam as proporções de superhosts por cidade?\n",
    "# Verifica-se que a maior proporção de superhosts é em Atenas\n",
    "df7 = df.groupby(['city', 'host_is_superhost']).weekdays.count().reset_index()\n",
    "df7 = df7.rename(columns={'weekdays': 'count'})\n",
    "\n",
    "sns.barplot(df7, y='city', x='count', hue=\"host_is_superhost\").set(title='Atenas tem maior proporção de superhosts', xlabel='Quantidade', ylabel='Cidade');"
   ]
  },
  {
   "cell_type": "code",
   "execution_count": null,
   "id": "d6bef18d",
   "metadata": {},
   "outputs": [],
   "source": [
    "# Verificou-se que havia alta correlação entre a nota de limpeza\n",
    "# e a nota geral\n",
    "df.plot(x=\"cleanliness_rating\", y=\"guest_satisfaction_overall\", kind=\"scatter\", title=\"Quanto maior a nota de limpeza, maior a satisfação\")"
   ]
  },
  {
   "cell_type": "code",
   "execution_count": null,
   "id": "1dc7bf77",
   "metadata": {},
   "outputs": [],
   "source": [
    "sns.boxplot(df, x=\"guest_satisfaction_overall\").set(title=\"Clientes em geral estão satisfeitos\")"
   ]
  },
  {
   "cell_type": "code",
   "execution_count": null,
   "id": "c098c02d",
   "metadata": {},
   "outputs": [],
   "source": [
    "# Como estão as notas de limpeza?\n",
    "sns.boxplot(df, x=\"cleanliness_rating\").set(title=\"Nota 10 em limpeza para a maioria das locações\")"
   ]
  },
  {
   "cell_type": "code",
   "execution_count": null,
   "id": "3227d49a",
   "metadata": {},
   "outputs": [],
   "source": [
    "# Como se relacionam o preço, o status de superhost e a satisfação dos hóspedes?\n",
    "# Grafico barra horizontal separado por cidade\n",
    "sns.barplot(df, y=\"city\", x=\"guest_satisfaction_overall\", hue=\"host_is_superhost\", hue_order=[True, False])\n",
    "plt.legend(title='Superhost')\n",
    "plt.xlabel('Satisfaction')\n",
    "plt.ylabel('City')\n",
    "plt.title('Superhost são melhores avaliados')\n",
    "#Resposta - Sim, Superhosts são mais bem avaliados"
   ]
  },
  {
   "cell_type": "code",
   "execution_count": null,
   "id": "833bedd1",
   "metadata": {},
   "outputs": [],
   "source": [
    "# Há diferença de avaliação para diferentes tipos de locatários?\n",
    "# biz = false & multi = false: quem só tem um anúncio\n",
    "# biz = false & multi = true: quem tem de 2 a 4 anúncios\n",
    "# biz = true & multi = false = quem tem >4 anúncios\n",
    "def checa_tipo(row):\n",
    "    if row['biz'] == False and row['multi'] == False:\n",
    "        valor='1'\n",
    "    elif row['biz'] == False and row['multi'] == True:\n",
    "        valor='2-4'\n",
    "    elif row['biz'] == True and row['multi'] == False:\n",
    "        valor='>4'\n",
    "    return pd.Series(valor)\n",
    "df['cat'] = df.apply(checa_tipo, axis=1)"
   ]
  },
  {
   "cell_type": "code",
   "execution_count": null,
   "id": "563880dd",
   "metadata": {},
   "outputs": [],
   "source": [
    "sns.barplot(df, x=\"cat\", y=\"guest_satisfaction_overall\", hue='host_is_superhost', hue_order=[True, False], order=['1', '2-4', '>4'])\n",
    "plt.xlabel('Quantidade de anúncios do anfitrião')\n",
    "plt.ylabel('Satisfação do cliente')\n",
    "plt.title('Anfitriões que não são superhost e tem menos anúncios satisfazem mais seus clientes')\n",
    "plt.legend(title='Superhost')"
   ]
  },
  {
   "cell_type": "markdown",
   "id": "5e222e7d",
   "metadata": {},
   "source": [
    "## Análise de preços"
   ]
  },
  {
   "cell_type": "code",
   "execution_count": null,
   "id": "fd6901cc",
   "metadata": {},
   "outputs": [],
   "source": [
    "# Como é a média de valores de locação nas cidades analisadas?\n",
    "sns.barplot(df, x=\"realSum\", y=\"city\").set(title='Amsterdam aparenta ter a média de preços maior')"
   ]
  },
  {
   "cell_type": "code",
   "execution_count": null,
   "id": "fd8ca2a6",
   "metadata": {},
   "outputs": [],
   "source": [
    "# Como é o boxplot dos valores de locação?\n",
    "# Verifica-se que há muitos outliers com valores excessivamente alto\n",
    "sns.boxplot(df[\"realSum\"]).set(title='Muitos outliers!')"
   ]
  },
  {
   "cell_type": "code",
   "execution_count": null,
   "id": "eca78725",
   "metadata": {},
   "outputs": [],
   "source": [
    "sns.boxplot(df, x=\"realSum\", y=\"city\").set(title='Muitos outliers inclusive por cidade')"
   ]
  },
  {
   "cell_type": "code",
   "execution_count": null,
   "id": "a8429c20",
   "metadata": {},
   "outputs": [],
   "source": [
    "# Foram tantos outliers que para visualizar o boxplot de forma mais limpa,\n",
    "# foi necessário filtrar o valor de locação para valores abaixo de EUR 1.200\n",
    "# por 2 noites por casal\n",
    "# Verifica-se que Atenas tem a mediana mais baixa.\n",
    "sns.boxplot(df[df[\"realSum\"]<1200], x=\"realSum\", y=\"city\").set(title='Atenas tem menor mediana de preços')"
   ]
  },
  {
   "cell_type": "code",
   "execution_count": null,
   "id": "52556834",
   "metadata": {},
   "outputs": [],
   "source": [
    "# Há diferença entre valor para semana ou final de semana?\n",
    "# Verifica-se que Atenas e Paris possuem maior valor médio de\n",
    "# locação para dias de semana que para finais de semana.\n",
    "sns.barplot(df, x=\"realSum\", y=\"city\", hue=\"weekdays\", hue_order=[True, False])"
   ]
  },
  {
   "cell_type": "code",
   "execution_count": null,
   "id": "eaa0c291",
   "metadata": {
    "scrolled": false
   },
   "outputs": [],
   "source": [
    "# Criando cópia do Dataframe e limitando o valor de locação em 1.500\n",
    "copia_df = df.copy()\n",
    "copia_df = copia_df[copia_df[\"realSum\"]<1500]\n",
    "# O valor apontado no DF é por 2 noites para 2 pessoas, vamos então\n",
    "# calcular o valor por pessoa por noite:\n",
    "copia_df[\"price_per_person\"] = copia_df[\"realSum\"] / 4\n",
    "copia_df.describe(include=\"all\", percentiles=[0,0.25,0.5,0.75,0.95,1]).T"
   ]
  },
  {
   "cell_type": "code",
   "execution_count": null,
   "id": "ef6356aa",
   "metadata": {},
   "outputs": [],
   "source": [
    "# Uma casa para mais pessoas (maior person_capacity) é necessariamente mais cara?\n",
    "sns.barplot(df, x=\"realSum\", y=\"city\", hue=\"person_capacity\").set(title='Sim, maior capacidade = maior preço')"
   ]
  },
  {
   "cell_type": "code",
   "execution_count": null,
   "id": "0c5f79e1",
   "metadata": {},
   "outputs": [],
   "source": [
    "# O preço varia com a distância ao centro da cidade?\n",
    "sns.lmplot(data=copia_df, x=\"dist\", y=\"realSum\", logx=True, hue=\"city\", height=5, aspect=2, scatter=False).set(title='Imóveis mais perto do centro são mais caros', xlabel='Distance from Center', ylabel='Price')"
   ]
  },
  {
   "cell_type": "code",
   "execution_count": null,
   "id": "6a0d805b",
   "metadata": {},
   "outputs": [],
   "source": [
    "# O preço varia com a distância a estação de metrô?\n",
    "sns.lmplot(data=copia_df, x=\"metro_dist\", y=\"realSum\", logx=True, hue=\"city\", height=5, aspect=2, scatter=False).set(title='Imóveis mais perto do metrô são mais caros', xlabel='Distance from metro', ylabel='Price')"
   ]
  },
  {
   "cell_type": "code",
   "execution_count": null,
   "id": "3e524cd6",
   "metadata": {},
   "outputs": [],
   "source": [
    "# O preço varia com o índice de atratividade?\n",
    "sns.lmplot(data=copia_df, x=\"attr_index_norm\", y=\"realSum\", logx=True, hue=\"city\", height=5, aspect=2, scatter=False).set(title='Imóveis com maior índice de atratividade são mais caros', xlabel='Índice de atratividade', ylabel='Price')"
   ]
  },
  {
   "cell_type": "code",
   "execution_count": null,
   "id": "69672e5d",
   "metadata": {},
   "outputs": [],
   "source": [
    "# O preço varia com a proximidade de restaurantes atrativos?\n",
    "sns.lmplot(data=copia_df, x=\"rest_index_norm\", y=\"realSum\", logx=True, hue=\"city\", height=5, aspect=2, scatter=False).set(title='Imóveis com maior proximidade de restaurantes atrativos são mais caros', xlabel='Índice de atratividade de restaurante', ylabel='Price')"
   ]
  },
  {
   "cell_type": "markdown",
   "id": "7811bd7d",
   "metadata": {},
   "source": [
    "## Visualização em mapas"
   ]
  },
  {
   "cell_type": "code",
   "execution_count": null,
   "id": "037f1ed8",
   "metadata": {},
   "outputs": [],
   "source": [
    "# Visualizando os preços em locais através de mapas\n",
    "geo_df = gpd.GeoDataFrame(df, geometry=gpd.points_from_xy(df.lng, df.lat))\n",
    "geo_copia_df = gpd.GeoDataFrame(copia_df, geometry=gpd.points_from_xy(copia_df.lng, copia_df.lat))\n",
    "\n",
    "#scatter plot com geo_df2\n",
    "#use strong colors for the points\n",
    "#change collor from light to dark as the price increases\n",
    "#cor = preto\n",
    "fig = px.scatter_mapbox(geo_copia_df, lat=\"lat\", lon=\"lng\", size=\"realSum\", hover_name=\"city\", zoom=3, height=500, color=\"realSum\", color_continuous_scale=px.colors.sequential.Blackbody)\n",
    "fig.update_layout(margin={\"r\":0,\"t\":0,\"l\":0,\"b\":0})\n",
    "fig.update_layout(mapbox_style=\"open-street-map\")\n",
    "fig.show()\n"
   ]
  },
  {
   "cell_type": "code",
   "execution_count": null,
   "id": "92488e7e",
   "metadata": {},
   "outputs": [],
   "source": [
    "fig = px.scatter_mapbox(geo_copia_df, lat=\"lat\", lon=\"lng\", hover_name=\"city\", hover_data=[\"weekdays\"], size=\"price_per_person\",color = 'price_per_person', zoom=4, height=500, color_continuous_scale=px.colors.sequential.Viridis_r, range_color=[20,150])\n",
    "fig.update_layout(\n",
    "    mapbox_style=\"white-bg\",\n",
    "    mapbox_layers=[\n",
    "        {\n",
    "            \"below\": 'traces',\n",
    "            \"sourcetype\": \"raster\",\n",
    "            \"source\": [\n",
    "                \"https://a.basemaps.cartocdn.com/light_all/{z}/{x}/{y}.png\"\n",
    "            ]\n",
    "        }\n",
    "      ])\n",
    "fig.update_layout(margin={\"r\":0,\"t\":0,\"l\":0,\"b\":0})\n",
    "fig.show()"
   ]
  }
 ],
 "metadata": {
  "kernelspec": {
   "display_name": "Python 3 (ipykernel)",
   "language": "python",
   "name": "python3"
  },
  "language_info": {
   "codemirror_mode": {
    "name": "ipython",
    "version": 3
   },
   "file_extension": ".py",
   "mimetype": "text/x-python",
   "name": "python",
   "nbconvert_exporter": "python",
   "pygments_lexer": "ipython3",
   "version": "3.10.10"
  },
  "vscode": {
   "interpreter": {
    "hash": "6813fa3633fc0e88c81ebe3fa6b148b1ebf5781734f7407ce7a0d488db4440a1"
   }
  }
 },
 "nbformat": 4,
 "nbformat_minor": 5
}
